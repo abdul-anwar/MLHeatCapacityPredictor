{
 "cells": [
  {
   "cell_type": "markdown",
   "id": "8ab05d53",
   "metadata": {},
   "source": [
    "### Artificial Neural Network for the Prediction of Specific Heat Capacity using a Gradient Boosting Regressor and Molecular Weight"
   ]
  },
  {
   "cell_type": "code",
   "execution_count": 1,
   "id": "7770ef1a",
   "metadata": {},
   "outputs": [],
   "source": [
    "# Numpy (manipulation of arrays)\n",
    "import numpy as np\n",
    "# Pandas (manipulation of databases)\n",
    "import pandas as pd\n",
    "# Matplotlib (plotting library)\n",
    "import matplotlib.pyplot as plt\n",
    "from matplotlib.ticker import MultipleLocator, FormatStrFormatter\n",
    "\n",
    "# Import scikit learn classifier and regressor.\n",
    "import sklearn\n",
    "from sklearn.neural_network import MLPClassifier\n",
    "from sklearn.neural_network import MLPRegressor\n",
    "from sklearn.linear_model import LinearRegression\n",
    "\n",
    "# Import the random forest regressor\n",
    "from sklearn.ensemble import RandomForestRegressor\n",
    "\n",
    "# Import Gradient Boosting Regressor\n",
    "from sklearn.ensemble import GradientBoostingRegressor\n",
    "\n",
    "#Import Support Vector Regressor\n",
    "from sklearn.svm import SVR\n",
    "\n",
    "# Tool for splitting sets. Needed to split training and test data\n",
    "from sklearn.model_selection import train_test_split\n",
    "# Tool for splitting sets. Used to apply kFold validation on the data sets\n",
    "from sklearn.model_selection import KFold \n",
    "\n",
    "# Module to normalized data\n",
    "from sklearn import preprocessing\n",
    "# Module to standardise data\n",
    "from sklearn.preprocessing import StandardScaler\n",
    "\n",
    "# Tool for calculation of the mean square error (mse) and mean absolut error (mae)\n",
    "from sklearn.metrics import mean_squared_error, mean_absolute_error\n",
    "\n",
    "# Tool for calculating R2 score\n",
    "from sklearn.metrics import r2_score "
   ]
  },
  {
   "cell_type": "code",
   "execution_count": 2,
   "id": "1753488c",
   "metadata": {},
   "outputs": [
    {
     "data": {
      "text/html": [
       "<div>\n",
       "<style scoped>\n",
       "    .dataframe tbody tr th:only-of-type {\n",
       "        vertical-align: middle;\n",
       "    }\n",
       "\n",
       "    .dataframe tbody tr th {\n",
       "        vertical-align: top;\n",
       "    }\n",
       "\n",
       "    .dataframe thead th {\n",
       "        text-align: right;\n",
       "    }\n",
       "</style>\n",
       "<table border=\"1\" class=\"dataframe\">\n",
       "  <thead>\n",
       "    <tr style=\"text-align: right;\">\n",
       "      <th></th>\n",
       "      <th>Temperature (K)</th>\n",
       "      <th>Density (kg/m3)</th>\n",
       "      <th>Cp (J/g*K)</th>\n",
       "      <th>Molecular Weight</th>\n",
       "    </tr>\n",
       "  </thead>\n",
       "  <tbody>\n",
       "    <tr>\n",
       "      <th>0</th>\n",
       "      <td>100</td>\n",
       "      <td>438.94</td>\n",
       "      <td>3.4079</td>\n",
       "      <td>16</td>\n",
       "    </tr>\n",
       "    <tr>\n",
       "      <th>1</th>\n",
       "      <td>100</td>\n",
       "      <td>439.01</td>\n",
       "      <td>3.4071</td>\n",
       "      <td>16</td>\n",
       "    </tr>\n",
       "    <tr>\n",
       "      <th>2</th>\n",
       "      <td>100</td>\n",
       "      <td>439.09</td>\n",
       "      <td>3.4064</td>\n",
       "      <td>16</td>\n",
       "    </tr>\n",
       "    <tr>\n",
       "      <th>3</th>\n",
       "      <td>100</td>\n",
       "      <td>439.16</td>\n",
       "      <td>3.4056</td>\n",
       "      <td>16</td>\n",
       "    </tr>\n",
       "    <tr>\n",
       "      <th>4</th>\n",
       "      <td>100</td>\n",
       "      <td>439.24</td>\n",
       "      <td>3.4048</td>\n",
       "      <td>16</td>\n",
       "    </tr>\n",
       "    <tr>\n",
       "      <th>...</th>\n",
       "      <td>...</td>\n",
       "      <td>...</td>\n",
       "      <td>...</td>\n",
       "      <td>...</td>\n",
       "    </tr>\n",
       "    <tr>\n",
       "      <th>21385</th>\n",
       "      <td>700</td>\n",
       "      <td>432.38</td>\n",
       "      <td>3.5573</td>\n",
       "      <td>170</td>\n",
       "    </tr>\n",
       "    <tr>\n",
       "      <th>21386</th>\n",
       "      <td>700</td>\n",
       "      <td>433.28</td>\n",
       "      <td>3.5556</td>\n",
       "      <td>170</td>\n",
       "    </tr>\n",
       "    <tr>\n",
       "      <th>21387</th>\n",
       "      <td>700</td>\n",
       "      <td>434.18</td>\n",
       "      <td>3.5539</td>\n",
       "      <td>170</td>\n",
       "    </tr>\n",
       "    <tr>\n",
       "      <th>21388</th>\n",
       "      <td>700</td>\n",
       "      <td>435.06</td>\n",
       "      <td>3.5523</td>\n",
       "      <td>170</td>\n",
       "    </tr>\n",
       "    <tr>\n",
       "      <th>21389</th>\n",
       "      <td>700</td>\n",
       "      <td>435.93</td>\n",
       "      <td>3.5508</td>\n",
       "      <td>170</td>\n",
       "    </tr>\n",
       "  </tbody>\n",
       "</table>\n",
       "<p>21390 rows × 4 columns</p>\n",
       "</div>"
      ],
      "text/plain": [
       "       Temperature (K)  Density (kg/m3)  Cp (J/g*K)  Molecular Weight\n",
       "0                  100           438.94      3.4079                16\n",
       "1                  100           439.01      3.4071                16\n",
       "2                  100           439.09      3.4064                16\n",
       "3                  100           439.16      3.4056                16\n",
       "4                  100           439.24      3.4048                16\n",
       "...                ...              ...         ...               ...\n",
       "21385              700           432.38      3.5573               170\n",
       "21386              700           433.28      3.5556               170\n",
       "21387              700           434.18      3.5539               170\n",
       "21388              700           435.06      3.5523               170\n",
       "21389              700           435.93      3.5508               170\n",
       "\n",
       "[21390 rows x 4 columns]"
      ]
     },
     "execution_count": 2,
     "metadata": {},
     "output_type": "execute_result"
    }
   ],
   "source": [
    "# Dictates which columns I would like to read from the databse\n",
    "columns = ['Temperature (K)','Density (kg/m3)','Cp (J/g*K)','Molecular Weight']\n",
    "\n",
    "# Read data base, specifies no specific sheet thus reads all of them together\n",
    "d = pd.read_excel('databasemw.xlsx', sheet_name=None, header=0, usecols=columns)\n",
    "\n",
    "# Colates the multiple sheets in the data base\n",
    "df = pd.concat(d.values(), ignore_index=True)\n",
    "\n",
    "# Print data base \n",
    "df"
   ]
  },
  {
   "cell_type": "code",
   "execution_count": 3,
   "id": "fa801df7",
   "metadata": {},
   "outputs": [
    {
     "data": {
      "text/html": [
       "<div>\n",
       "<style scoped>\n",
       "    .dataframe tbody tr th:only-of-type {\n",
       "        vertical-align: middle;\n",
       "    }\n",
       "\n",
       "    .dataframe tbody tr th {\n",
       "        vertical-align: top;\n",
       "    }\n",
       "\n",
       "    .dataframe thead th {\n",
       "        text-align: right;\n",
       "    }\n",
       "</style>\n",
       "<table border=\"1\" class=\"dataframe\">\n",
       "  <thead>\n",
       "    <tr style=\"text-align: right;\">\n",
       "      <th></th>\n",
       "      <th>count</th>\n",
       "      <th>mean</th>\n",
       "      <th>std</th>\n",
       "      <th>min</th>\n",
       "      <th>25%</th>\n",
       "      <th>50%</th>\n",
       "      <th>75%</th>\n",
       "      <th>max</th>\n",
       "    </tr>\n",
       "  </thead>\n",
       "  <tbody>\n",
       "    <tr>\n",
       "      <th>Temperature (K)</th>\n",
       "      <td>21390.0</td>\n",
       "      <td>408.622020</td>\n",
       "      <td>149.933636</td>\n",
       "      <td>100.00000</td>\n",
       "      <td>300.00000</td>\n",
       "      <td>400.00000</td>\n",
       "      <td>525.0000</td>\n",
       "      <td>725.000</td>\n",
       "    </tr>\n",
       "    <tr>\n",
       "      <th>Density (kg/m3)</th>\n",
       "      <td>21390.0</td>\n",
       "      <td>408.485428</td>\n",
       "      <td>269.530645</td>\n",
       "      <td>0.30866</td>\n",
       "      <td>77.02425</td>\n",
       "      <td>501.25000</td>\n",
       "      <td>642.8200</td>\n",
       "      <td>777.190</td>\n",
       "    </tr>\n",
       "    <tr>\n",
       "      <th>Cp (J/g*K)</th>\n",
       "      <td>21390.0</td>\n",
       "      <td>2.851891</td>\n",
       "      <td>0.827079</td>\n",
       "      <td>1.45700</td>\n",
       "      <td>2.32210</td>\n",
       "      <td>2.77415</td>\n",
       "      <td>3.1835</td>\n",
       "      <td>25.822</td>\n",
       "    </tr>\n",
       "    <tr>\n",
       "      <th>Molecular Weight</th>\n",
       "      <td>21390.0</td>\n",
       "      <td>82.655446</td>\n",
       "      <td>46.560872</td>\n",
       "      <td>16.00000</td>\n",
       "      <td>44.00000</td>\n",
       "      <td>72.00000</td>\n",
       "      <td>114.0000</td>\n",
       "      <td>170.000</td>\n",
       "    </tr>\n",
       "  </tbody>\n",
       "</table>\n",
       "</div>"
      ],
      "text/plain": [
       "                    count        mean         std        min        25%  \\\n",
       "Temperature (K)   21390.0  408.622020  149.933636  100.00000  300.00000   \n",
       "Density (kg/m3)   21390.0  408.485428  269.530645    0.30866   77.02425   \n",
       "Cp (J/g*K)        21390.0    2.851891    0.827079    1.45700    2.32210   \n",
       "Molecular Weight  21390.0   82.655446   46.560872   16.00000   44.00000   \n",
       "\n",
       "                        50%       75%      max  \n",
       "Temperature (K)   400.00000  525.0000  725.000  \n",
       "Density (kg/m3)   501.25000  642.8200  777.190  \n",
       "Cp (J/g*K)          2.77415    3.1835   25.822  \n",
       "Molecular Weight   72.00000  114.0000  170.000  "
      ]
     },
     "execution_count": 3,
     "metadata": {},
     "output_type": "execute_result"
    }
   ],
   "source": [
    "# Describe the database (means, standard deviations, etc.)\n",
    "df.describe().transpose()"
   ]
  },
  {
   "cell_type": "code",
   "execution_count": 4,
   "id": "5989b5f6",
   "metadata": {},
   "outputs": [
    {
     "data": {
      "text/plain": [
       "['Cp (J/g*K)']"
      ]
     },
     "execution_count": 4,
     "metadata": {},
     "output_type": "execute_result"
    }
   ],
   "source": [
    "# Identify target column (output). For this example, wine quality is the target property\n",
    "target = ['Cp (J/g*K)']\n",
    "\n",
    "#Prints target\n",
    "target"
   ]
  },
  {
   "cell_type": "code",
   "execution_count": 5,
   "id": "89a34cb3",
   "metadata": {},
   "outputs": [
    {
     "data": {
      "text/plain": [
       "['Temperature (K)', 'Density (kg/m3)', 'Molecular Weight']"
      ]
     },
     "execution_count": 5,
     "metadata": {},
     "output_type": "execute_result"
    }
   ],
   "source": [
    "# Specifies exact features (inputs) in order\n",
    "features = ['Temperature (K)','Density (kg/m3)','Molecular Weight']\n",
    "\n",
    "#Prints features\n",
    "features"
   ]
  },
  {
   "cell_type": "code",
   "execution_count": 6,
   "id": "c6dd7735",
   "metadata": {},
   "outputs": [
    {
     "name": "stdout",
     "output_type": "stream",
     "text": [
      "(16042, 3)\n",
      "(5348, 3)\n"
     ]
    }
   ],
   "source": [
    "# Extract input (feature) data and output (target) data from database \n",
    "x_data = df[features].values\n",
    "y_data = df[target].values\n",
    "\n",
    "# Split data for training and testing. In this example, the splits is 75:25\n",
    "x_train, x_test, y_train, y_test = train_test_split(x_data,y_data,test_size=0.25,random_state=40,shuffle=True)\n",
    "\n",
    "print(x_train.shape)\n",
    "print(x_test.shape)"
   ]
  },
  {
   "cell_type": "raw",
   "id": "0ef4aa1c",
   "metadata": {},
   "source": [
    "# Extract input (feature) data and output (target) data from database \n",
    "x_data = df[features].values\n",
    "y_data = df[target].values\n",
    "\n",
    "# Split data for training and testing. In this example, the splits is 80:20\n",
    "x_train_val, x_test, y_train_val, y_test = train_test_split(x_data,y_data,test_size=0.2,random_state=40,shuffle=True)\n",
    "\n",
    "# Split training set into training and validation sets (75/25 split)\n",
    "x_train, x_val, y_train, y_val = train_test_split(x_train_val, y_train_val, test_size=0.25, random_state=40)\n",
    "\n",
    "print(x_train.shape)\n",
    "print(x_test.shape)"
   ]
  },
  {
   "cell_type": "code",
   "execution_count": 7,
   "id": "6ed6abc0",
   "metadata": {},
   "outputs": [
    {
     "name": "stdout",
     "output_type": "stream",
     "text": [
      "The R2 for the test data after fitting is: 1.\n"
     ]
    }
   ],
   "source": [
    "# Define the data scaler\n",
    "scaler = StandardScaler()\n",
    "\n",
    "# Fits and transforms x_train data set (standardisation)\n",
    "x_train_scaled = scaler.fit_transform(x_train)\n",
    "\n",
    "# Transforms x_test data set using the mean and standard deviation from the fitted x_train data set\n",
    "x_test_scaled = scaler.transform(x_test)\n",
    "\n",
    "# Create an Artificial Neural Network architecture \n",
    "clf = GradientBoostingRegressor(n_estimators=1000,learning_rate=0.01,max_depth=15,random_state=0,loss='squared_error')\n",
    "clf.fit(x_train_scaled, y_train.ravel())\n",
    "\n",
    "# Calculates the R2 score after fitting\n",
    "r2_test = clf.score(x_train_scaled, y_train.ravel())\n",
    "print('The R2 for the test data after fitting is: {0:6.5f}'.format(r2_test).rstrip('0'))"
   ]
  },
  {
   "cell_type": "raw",
   "id": "cfafac7e",
   "metadata": {},
   "source": [
    "# Transform the validation set using the mean and standard deviation from the training set\n",
    "x_val_scaled = scaler.transform(x_val)\n",
    "\n",
    "# Generate predictions for the validation set using the meta-model\n",
    "val_preds = clf.predict(x_val_scaled)\n",
    "\n",
    "# Evaluate the performance of the meta-model using R-squared\n",
    "r2_val = clf.score(x_val_scaled, y_val)\n",
    "print('The R2 for the validation data is: {0:6.5f}'.format(r2_val).rstrip('0'))"
   ]
  },
  {
   "cell_type": "code",
   "execution_count": 8,
   "id": "0165ef59",
   "metadata": {},
   "outputs": [
    {
     "name": "stdout",
     "output_type": "stream",
     "text": [
      "Mean squared error: 0.03847\n",
      "Mean absolute error: 0.01929\n",
      "Root mean squared error: 0.19614\n",
      "Average absolute deviation: 0.00053\n"
     ]
    }
   ],
   "source": [
    "# Use the optimized neural network to predict the output\n",
    "predict_train_set = clf.predict(x_train_scaled)\n",
    "predict_test_set = clf.predict(x_test_scaled)\n",
    "#predict_val_set = clf.predict(x_val_scaled)\n",
    "\n",
    "# Calculates the mean squared error\n",
    "mse = mean_squared_error(y_test, predict_test_set)\n",
    "mse_rounded = round(mse, 5)\n",
    "print(f\"Mean squared error: {mse_rounded}\")\n",
    "\n",
    "# Calculate mean absolute error (MAE)\n",
    "mae = mean_absolute_error(y_test, predict_test_set)\n",
    "mae_rounded = round(mae, 5)\n",
    "print(f\"Mean absolute error: {mae_rounded}\")\n",
    "\n",
    "# Calculate root mean squared error (RMSE)\n",
    "rmse = mean_squared_error(y_test, predict_test_set, squared=False)\n",
    "rmse_rounded = round(rmse, 5)\n",
    "print(f\"Root mean squared error: {rmse_rounded}\")\n",
    "\n",
    "# Calculate average absolute deviation (AAD)\n",
    "summation = 0\n",
    "n = len(y_test)\n",
    "for i in range(0,n):\n",
    "    difference = predict_test_set[i]-y_test[i]\n",
    "    frac = difference/y_test[i]\n",
    "    squared = frac**2\n",
    "    summation = summation + squared\n",
    "    aad = (summation/n)[0]\n",
    "    aad_rounded = str(np.round(aad, 5)).rstrip('0').rstrip('.')\n",
    "print(f\"Average absolute deviation: {aad_rounded}\")"
   ]
  },
  {
   "cell_type": "code",
   "execution_count": 9,
   "id": "47fcc550",
   "metadata": {},
   "outputs": [
    {
     "data": {
      "image/png": "[encoded data removed]",
      "text/plain": [
       "<Figure size 576x576 with 1 Axes>"
      ]
     },
     "metadata": {
      "needs_background": "light"
     },
     "output_type": "display_data"
    }
   ],
   "source": [
    "# Plots a graph comparing the the accuracy of the train and test data sets\n",
    "plt.figure(figsize=(8, 8))\n",
    "\n",
    "ax1 = plt.subplot(1, 1, 1)\n",
    "\n",
    "ax1.plot(y_train, predict_train_set, marker='o', ls='None', mec='k', mfc='#7FFF00', label='Train GBR', markersize=10)\n",
    "#ax1.plot(y_val, predict_val_set, marker='o', ls='None', mec='k', mfc='#FFC0CB', label='Validation', markersize=10)\n",
    "ax1.plot(y_test, predict_test_set, marker='o', ls='None', mec='k', mfc='#1F77B4', label='Test', markersize=10)\n",
    "ax1.legend(fontsize=18)\n",
    "\n",
    "ax1.plot([0,26],[0,26],'-k',lw=0.5)\n",
    "\n",
    "ax1.tick_params(axis='both',which='major',labelsize=18,length=8,width=1.5,pad=4,direction='out')\n",
    "ax1.tick_params(axis='both',which='minor',labelsize=18,length=4,width=1,pad=4,direction='out')\n",
    "\n",
    "ax1.set_xlim([0,25])\n",
    "ax1.set_ylim([0,25])\n",
    "ax1.set_xlabel('Output (target)',fontsize=24)\n",
    "ax1.set_ylabel('Output (predicted)',fontsize=24)\n",
    "ax1.set_title('Model Accuracy', fontsize=20)\n",
    "\n",
    "majorLocator = MultipleLocator(5)\n",
    "minorLocator = MultipleLocator(2.5)\n",
    "ax1.xaxis.set_major_locator(majorLocator)\n",
    "ax1.xaxis.set_minor_locator(minorLocator)\n",
    "ax1.yaxis.set_major_locator(majorLocator)\n",
    "ax1.yaxis.set_minor_locator(minorLocator)\n",
    "\n",
    "#ax1.grid(True)\n",
    "\n",
    "plt.gca().set_aspect('equal', adjustable='box')\n",
    "plt.show()"
   ]
  },
  {
   "cell_type": "code",
   "execution_count": 10,
   "id": "f3d86d54",
   "metadata": {},
   "outputs": [
    {
     "name": "stdout",
     "output_type": "stream",
     "text": [
      "Enter Temperature (K): 150\n",
      "Enter Density (kg/m3): 757.97\n",
      "Enter Molecular Weight: 72\n",
      "Predicted Cp: 1.9617\n",
      "Do you want to enter new input values? (Y/N) n\n"
     ]
    }
   ],
   "source": [
    "# Loop until the user chooses to exit\n",
    "while True:\n",
    "    # Ask the user for input values\n",
    "    temperature = float(input(\"Enter Temperature (K): \"))\n",
    "    density = float(input(\"Enter Density (kg/m3): \"))\n",
    "    molecular_weight = float(input(\"Enter Molecular Weight: \"))\n",
    "\n",
    "    # Create a numpy array from the input values and reshape\n",
    "    input_values = np.array([temperature, density, molecular_weight]).reshape(1, -1)\n",
    "\n",
    "    # Scale the input values to match the training and test data\n",
    "    scaled_input = scaler.transform(input_values)\n",
    "    \n",
    "    # Use the trained meta-model to make predictions on the stacked features\n",
    "    predicted_cp = clf.predict(scaled_input)[0]\n",
    "    \n",
    "    # Round the predicted value to 4 decimal places and remove trailing zeros\n",
    "    predicted_cp_rounded = str(np.round(predicted_cp, 4)).rstrip('0').rstrip('.')\n",
    "\n",
    "    # Print the predicted and actual Cp values\n",
    "    print(f\"Predicted Cp: {predicted_cp_rounded}\")\n",
    "\n",
    "    # Ask the user if they want to enter new input values or exit\n",
    "    choice = input(\"Do you want to enter new input values? (Y/N) \").upper()\n",
    "    if choice != \"Y\":\n",
    "        break"
   ]
  }
 ],
 "metadata": {
  "kernelspec": {
   "display_name": "Python 3 (ipykernel)",
   "language": "python",
   "name": "python3"
  },
  "language_info": {
   "codemirror_mode": {
    "name": "ipython",
    "version": 3
   },
   "file_extension": ".py",
   "mimetype": "text/x-python",
   "name": "python",
   "nbconvert_exporter": "python",
   "pygments_lexer": "ipython3",
   "version": "3.9.12"
  }
 },
 "nbformat": 4,
 "nbformat_minor": 5
}
